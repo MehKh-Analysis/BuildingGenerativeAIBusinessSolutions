{
 "cells": [
  {
   "cell_type": "markdown",
   "id": "d940f51d-cdb5-4951-b2d0-a4797470104a",
   "metadata": {},
   "source": [
    "# Create a Table from LLM Output\n"
   ]
  },
  {
   "cell_type": "markdown",
   "id": "fdfede1b",
   "metadata": {},
   "source": [
    "Before downloading a model, you have to provide an access key to Huggingface.\n",
    "Go to ... and create a key. Copy the key into a textfile that your application can load."
   ]
  },
  {
   "cell_type": "code",
   "execution_count": 2,
   "id": "70b4e665",
   "metadata": {},
   "outputs": [],
   "source": [
    "import os\n",
    "jp = os.path.join\n",
    "import sys\n",
    "import datetime\n",
    "import json\n",
    "T_now = datetime.datetime.now\n",
    "from openai import OpenAI\n",
    "\n"
   ]
  },
  {
   "cell_type": "code",
   "execution_count": null,
   "id": "271ef0b2-72dd-48d8-a896-24709dc50029",
   "metadata": {},
   "outputs": [],
   "source": []
  },
  {
   "cell_type": "code",
   "execution_count": 3,
   "id": "b28ea639",
   "metadata": {},
   "outputs": [],
   "source": [
    "openai_api_key = open(jp(os.path.expanduser(\"~\"), \".secrets\", \"openai_pmolnar_gsu_edu_msa8700.apikey\"), \"r\").read().strip()\n",
    "os.environ[\"OPENAI_API_KEY\"] = openai_api_key\n",
    "client = OpenAI(api_key = openai_api_key)"
   ]
  },
  {
   "cell_type": "markdown",
   "id": "fcd3b1c0-c69a-4cff-a449-bac6d7db6b3e",
   "metadata": {},
   "source": [
    "## Create Helper Functions"
   ]
  },
  {
   "cell_type": "code",
   "execution_count": 5,
   "id": "dc0e19a9-5f17-4b9c-82f4-7e1d3ec5953d",
   "metadata": {},
   "outputs": [],
   "source": [
    "def llm(input_text, max_new_tokens: int = 1000, openai_client = client):\n",
    "    completion = openai_client.chat.completions.create(\n",
    "        model=\"gpt-4o-mini\",\n",
    "        max_tokens=max_new_tokens,\n",
    "        temperature=0,\n",
    "        messages=[\n",
    "            {\"role\": \"system\", \"content\": \"You are a helpful assistant.\"},\n",
    "            {\n",
    "                \"role\": \"user\",\n",
    "                \"content\": input_text, ## f\"Answer the following question:\\n\\n{question}\\n\"\n",
    "            }\n",
    "        ]\n",
    "    )\n",
    "    return completion.choices[0].message.content.strip()"
   ]
  },
  {
   "cell_type": "markdown",
   "id": "217cd1a7-23dd-4205-b9cf-bc56eef58f9b",
   "metadata": {},
   "source": [
    "## Try out"
   ]
  },
  {
   "cell_type": "code",
   "execution_count": 6,
   "id": "9d13eb38",
   "metadata": {},
   "outputs": [
    {
     "name": "stdout",
     "output_type": "stream",
     "text": [
      "Elapsed time: 0:00:10.394650\n",
      "Here’s a list of 17 popular tourist attractions in Paris, formatted as requested:\n",
      "\n",
      "```\n",
      "Name | Location | Description | Visitors\n",
      "Eiffel Tower | Champ de Mars, 5 Avenue Anatole France | Iconic wrought-iron lattice tower, symbol of Paris. | 7 million\n",
      "Louvre Museum | Rue de Rivoli | World’s largest art museum, home to the Mona Lisa. | 9.6 million\n",
      "Notre-Dame Cathedral | Île de la Cité | Famous Gothic cathedral known for its stunning architecture. | 12 million\n",
      "Sacré-Cœur Basilica | 35 Rue du Chevalier de la Barre | Basilica located at the highest point in the city, offers panoramic views. | 10 million\n",
      "Champs-Élysées | Avenue des Champs-Élysées | Famous avenue known for shopping, theaters, and cafés. | 14 million\n",
      "Arc de Triomphe | Place Charles de Gaulle | Monument honoring those who fought for France, with a viewing platform. | 1.5 million\n",
      "Montmartre | 18th Arrondissement | Historic district known for its bohemian past and artists. | 10 million\n",
      "Palace of Versailles | Place d'Armes, Versailles | Former royal residence known for its opulent architecture and gardens. | 10 million\n",
      "Musée d'Orsay | 1 Rue de la Légion d'Honneur | Museum housed in a Beaux-Arts railway station, featuring Impressionist art. | 3.5 million\n",
      "Sainte-Chapelle | 8 Boulevard du Palais | Gothic chapel known for its stunning stained glass windows. | 1 million\n",
      "Luxembourg Gardens | Rue de Médicis - Rue de Vaugirard | Beautiful gardens with fountains, statues, and a serene atmosphere. | 9 million\n",
      "Seine River Cruises | Seine River | Scenic boat tours offering views of Paris landmarks from the water. | 5 million\n",
      "Père Lachaise Cemetery | 16 Rue du Repos | Famous cemetery where many notable figures are buried. | 3 million\n",
      "Centre Pompidou | Place Georges-Pompidou | Modern art museum known for its radical architectural design. | 3 million\n",
      "Tuileries Garden | Place de la Concorde | Public garden located between the Louvre and Place de la Concorde. | 8 million\n",
      "Catacombs of Paris | 1 Avenue du Colonel Henri Rol-Tanguy | \n"
     ]
    }
   ],
   "source": [
    "txt = \"\"\"\n",
    "Make a list of 17 tourist attractions in Paris, order them by their popularity with the most popular first.\n",
    "For each attaction state the Name, Part of the city, short description, and number of annual visitors.\n",
    "Format the output as PSV with fields \"Name\" | \"Location\" | \"Description\" | \"Visitors\".\n",
    "\"\"\"\n",
    "T_0 = T_now()\n",
    "data = llm(txt, 10000)\n",
    "print(f\"Elapsed time: {T_now()-T_0}\")\n",
    "print(data[:2000]) ### limit output ... sometime there's clutter at the end..."
   ]
  },
  {
   "cell_type": "markdown",
   "id": "a5009118",
   "metadata": {},
   "source": [
    "## Process LLM output to structured data\n",
    "\n",
    "You can use LLMs to produce structured data like this table of popular attractions in Paris. However, LLMs may not always produce perfectly formatted output text. Some text processing to cleanup the output might be required."
   ]
  },
  {
   "cell_type": "code",
   "execution_count": 7,
   "id": "88ffabe2",
   "metadata": {},
   "outputs": [],
   "source": [
    "import pandas as pd\n",
    "from io import StringIO"
   ]
  },
  {
   "cell_type": "markdown",
   "id": "1b17584e",
   "metadata": {},
   "source": [
    "Let's split the output text into lines, and then split each line by the \"|\" (pipe symbol) "
   ]
  },
  {
   "cell_type": "code",
   "execution_count": 8,
   "id": "fd9bf4f6",
   "metadata": {},
   "outputs": [
    {
     "name": "stdout",
     "output_type": "stream",
     "text": [
      "[['Here’s a list of 17 popular tourist attractions in Paris, formatted as requested:'], [''], ['```'], ['Name', 'Location', 'Description', 'Visitors'], ['Eiffel Tower', 'Champ de Mars, 5 Avenue Anatole France', 'Iconic wrought-iron lattice tower, symbol of Paris.', '7 million'], ['Louvre Museum', 'Rue de Rivoli', 'World’s largest art museum, home to the Mona Lisa.', '9.6 million'], ['Notre-Dame Cathedral', 'Île de la Cité', 'Famous Gothic cathedral known for its stunning architecture.', '12 million'], ['Sacré-Cœur Basilica', '35 Rue du Chevalier de la Barre', 'Basilica located at the highest point in the city, offers panoramic views.', '10 million'], ['Champs-Élysées', 'Avenue des Champs-Élysées', 'Famous avenue known for shopping, theaters, and cafés.', '14 million'], ['Arc de Triomphe', 'Place Charles de Gaulle', 'Monument honoring those who fought for France, with a viewing platform.', '1.5 million'], ['Montmartre', '18th Arrondissement', 'Historic district known for its bohemian past and artists.', '10 million'], ['Palace of Versailles', \"Place d'Armes, Versailles\", 'Former royal residence known for its opulent architecture and gardens.', '10 million'], [\"Musée d'Orsay\", \"1 Rue de la Légion d'Honneur\", 'Museum housed in a Beaux-Arts railway station, featuring Impressionist art.', '3.5 million'], ['Sainte-Chapelle', '8 Boulevard du Palais', 'Gothic chapel known for its stunning stained glass windows.', '1 million'], ['Luxembourg Gardens', 'Rue de Médicis - Rue de Vaugirard', 'Beautiful gardens with fountains, statues, and a serene atmosphere.', '9 million'], ['Seine River Cruises', 'Seine River', 'Scenic boat tours offering views of Paris landmarks from the water.', '5 million'], ['Père Lachaise Cemetery', '16 Rue du Repos', 'Famous cemetery where many notable figures are buried.', '3 million'], ['Centre Pompidou', 'Place Georges-Pompidou', 'Modern art museum known for its radical architectural design.', '3 million'], ['Tuileries Garden', 'Place de la Concorde', 'Public garden located between the Louvre and Place de la Concorde.', '8 million'], ['Catacombs of Paris', '1 Avenue du Colonel Henri Rol-Tanguy', 'Underground ossuary holding the remains of millions, a unique attraction.', '600,000']]\n"
     ]
    }
   ],
   "source": [
    "raw_dat = [ list(map(lambda s: str(s).strip(), line.split('|'))) for line in data.split('\\n') ]\n",
    "print(raw_dat[:20])"
   ]
  },
  {
   "cell_type": "markdown",
   "id": "9525ee7a",
   "metadata": {},
   "source": [
    "As you can see there are some blank lines. We can filter those out and then use Pandas to convert the text into a DataFrame"
   ]
  },
  {
   "cell_type": "code",
   "execution_count": 9,
   "id": "c93832bc",
   "metadata": {},
   "outputs": [
    {
     "data": {
      "text/plain": [
       "[['Name', 'Location', 'Description', 'Visitors'],\n",
       " ['Eiffel Tower',\n",
       "  'Champ de Mars, 5 Avenue Anatole France',\n",
       "  'Iconic wrought-iron lattice tower, symbol of Paris.',\n",
       "  '7 million'],\n",
       " ['Louvre Museum',\n",
       "  'Rue de Rivoli',\n",
       "  'World’s largest art museum, home to the Mona Lisa.',\n",
       "  '9.6 million'],\n",
       " ['Notre-Dame Cathedral',\n",
       "  'Île de la Cité',\n",
       "  'Famous Gothic cathedral known for its stunning architecture.',\n",
       "  '12 million'],\n",
       " ['Sacré-Cœur Basilica',\n",
       "  '35 Rue du Chevalier de la Barre',\n",
       "  'Basilica located at the highest point in the city, offers panoramic views.',\n",
       "  '10 million']]"
      ]
     },
     "execution_count": 9,
     "metadata": {},
     "output_type": "execute_result"
    }
   ],
   "source": [
    "# raw_dat = [ list(map(lambda s: str(s).strip(), line.split('|'))) for line in data.split('\\n') ]\n",
    "filt_dat = list(filter(lambda lst: len(lst)==4, raw_dat))\n",
    "filt_dat[:5]"
   ]
  },
  {
   "cell_type": "code",
   "execution_count": 10,
   "id": "5f4df8eb",
   "metadata": {},
   "outputs": [
    {
     "name": "stdout",
     "output_type": "stream",
     "text": [
      "Number of rows: 18\n"
     ]
    },
    {
     "data": {
      "text/html": [
       "<div>\n",
       "<style scoped>\n",
       "    .dataframe tbody tr th:only-of-type {\n",
       "        vertical-align: middle;\n",
       "    }\n",
       "\n",
       "    .dataframe tbody tr th {\n",
       "        vertical-align: top;\n",
       "    }\n",
       "\n",
       "    .dataframe thead th {\n",
       "        text-align: right;\n",
       "    }\n",
       "</style>\n",
       "<table border=\"1\" class=\"dataframe\">\n",
       "  <thead>\n",
       "    <tr style=\"text-align: right;\">\n",
       "      <th></th>\n",
       "      <th>Name</th>\n",
       "      <th>Location</th>\n",
       "      <th>Description</th>\n",
       "      <th>Visitors</th>\n",
       "    </tr>\n",
       "  </thead>\n",
       "  <tbody>\n",
       "    <tr>\n",
       "      <th>0</th>\n",
       "      <td>Name</td>\n",
       "      <td>Location</td>\n",
       "      <td>Description</td>\n",
       "      <td>Visitors</td>\n",
       "    </tr>\n",
       "    <tr>\n",
       "      <th>1</th>\n",
       "      <td>Eiffel Tower</td>\n",
       "      <td>Champ de Mars, 5 Avenue Anatole France</td>\n",
       "      <td>Iconic wrought-iron lattice tower, symbol of P...</td>\n",
       "      <td>7 million</td>\n",
       "    </tr>\n",
       "    <tr>\n",
       "      <th>2</th>\n",
       "      <td>Louvre Museum</td>\n",
       "      <td>Rue de Rivoli</td>\n",
       "      <td>World’s largest art museum, home to the Mona L...</td>\n",
       "      <td>9.6 million</td>\n",
       "    </tr>\n",
       "    <tr>\n",
       "      <th>3</th>\n",
       "      <td>Notre-Dame Cathedral</td>\n",
       "      <td>Île de la Cité</td>\n",
       "      <td>Famous Gothic cathedral known for its stunning...</td>\n",
       "      <td>12 million</td>\n",
       "    </tr>\n",
       "    <tr>\n",
       "      <th>4</th>\n",
       "      <td>Sacré-Cœur Basilica</td>\n",
       "      <td>35 Rue du Chevalier de la Barre</td>\n",
       "      <td>Basilica located at the highest point in the c...</td>\n",
       "      <td>10 million</td>\n",
       "    </tr>\n",
       "    <tr>\n",
       "      <th>5</th>\n",
       "      <td>Champs-Élysées</td>\n",
       "      <td>Avenue des Champs-Élysées</td>\n",
       "      <td>Famous avenue known for shopping, theaters, an...</td>\n",
       "      <td>14 million</td>\n",
       "    </tr>\n",
       "    <tr>\n",
       "      <th>6</th>\n",
       "      <td>Arc de Triomphe</td>\n",
       "      <td>Place Charles de Gaulle</td>\n",
       "      <td>Monument honoring those who fought for France,...</td>\n",
       "      <td>1.5 million</td>\n",
       "    </tr>\n",
       "    <tr>\n",
       "      <th>7</th>\n",
       "      <td>Montmartre</td>\n",
       "      <td>18th Arrondissement</td>\n",
       "      <td>Historic district known for its bohemian past ...</td>\n",
       "      <td>10 million</td>\n",
       "    </tr>\n",
       "    <tr>\n",
       "      <th>8</th>\n",
       "      <td>Palace of Versailles</td>\n",
       "      <td>Place d'Armes, Versailles</td>\n",
       "      <td>Former royal residence known for its opulent a...</td>\n",
       "      <td>10 million</td>\n",
       "    </tr>\n",
       "    <tr>\n",
       "      <th>9</th>\n",
       "      <td>Musée d'Orsay</td>\n",
       "      <td>1 Rue de la Légion d'Honneur</td>\n",
       "      <td>Museum housed in a Beaux-Arts railway station,...</td>\n",
       "      <td>3.5 million</td>\n",
       "    </tr>\n",
       "    <tr>\n",
       "      <th>10</th>\n",
       "      <td>Sainte-Chapelle</td>\n",
       "      <td>8 Boulevard du Palais</td>\n",
       "      <td>Gothic chapel known for its stunning stained g...</td>\n",
       "      <td>1 million</td>\n",
       "    </tr>\n",
       "    <tr>\n",
       "      <th>11</th>\n",
       "      <td>Luxembourg Gardens</td>\n",
       "      <td>Rue de Médicis - Rue de Vaugirard</td>\n",
       "      <td>Beautiful gardens with fountains, statues, and...</td>\n",
       "      <td>9 million</td>\n",
       "    </tr>\n",
       "    <tr>\n",
       "      <th>12</th>\n",
       "      <td>Seine River Cruises</td>\n",
       "      <td>Seine River</td>\n",
       "      <td>Scenic boat tours offering views of Paris land...</td>\n",
       "      <td>5 million</td>\n",
       "    </tr>\n",
       "    <tr>\n",
       "      <th>13</th>\n",
       "      <td>Père Lachaise Cemetery</td>\n",
       "      <td>16 Rue du Repos</td>\n",
       "      <td>Famous cemetery where many notable figures are...</td>\n",
       "      <td>3 million</td>\n",
       "    </tr>\n",
       "    <tr>\n",
       "      <th>14</th>\n",
       "      <td>Centre Pompidou</td>\n",
       "      <td>Place Georges-Pompidou</td>\n",
       "      <td>Modern art museum known for its radical archit...</td>\n",
       "      <td>3 million</td>\n",
       "    </tr>\n",
       "    <tr>\n",
       "      <th>15</th>\n",
       "      <td>Tuileries Garden</td>\n",
       "      <td>Place de la Concorde</td>\n",
       "      <td>Public garden located between the Louvre and P...</td>\n",
       "      <td>8 million</td>\n",
       "    </tr>\n",
       "    <tr>\n",
       "      <th>16</th>\n",
       "      <td>Catacombs of Paris</td>\n",
       "      <td>1 Avenue du Colonel Henri Rol-Tanguy</td>\n",
       "      <td>Underground ossuary holding the remains of mil...</td>\n",
       "      <td>600,000</td>\n",
       "    </tr>\n",
       "    <tr>\n",
       "      <th>17</th>\n",
       "      <td>Palais Garnier</td>\n",
       "      <td>Place de l'Opéra</td>\n",
       "      <td>Opulent opera house known for its grand archit...</td>\n",
       "      <td>1 million</td>\n",
       "    </tr>\n",
       "  </tbody>\n",
       "</table>\n",
       "</div>"
      ],
      "text/plain": [
       "                      Name                                Location  \\\n",
       "0                     Name                                Location   \n",
       "1             Eiffel Tower  Champ de Mars, 5 Avenue Anatole France   \n",
       "2            Louvre Museum                           Rue de Rivoli   \n",
       "3     Notre-Dame Cathedral                          Île de la Cité   \n",
       "4      Sacré-Cœur Basilica         35 Rue du Chevalier de la Barre   \n",
       "5           Champs-Élysées               Avenue des Champs-Élysées   \n",
       "6          Arc de Triomphe                 Place Charles de Gaulle   \n",
       "7               Montmartre                     18th Arrondissement   \n",
       "8     Palace of Versailles               Place d'Armes, Versailles   \n",
       "9            Musée d'Orsay            1 Rue de la Légion d'Honneur   \n",
       "10         Sainte-Chapelle                   8 Boulevard du Palais   \n",
       "11      Luxembourg Gardens       Rue de Médicis - Rue de Vaugirard   \n",
       "12     Seine River Cruises                             Seine River   \n",
       "13  Père Lachaise Cemetery                         16 Rue du Repos   \n",
       "14         Centre Pompidou                  Place Georges-Pompidou   \n",
       "15        Tuileries Garden                    Place de la Concorde   \n",
       "16      Catacombs of Paris    1 Avenue du Colonel Henri Rol-Tanguy   \n",
       "17          Palais Garnier                        Place de l'Opéra   \n",
       "\n",
       "                                          Description     Visitors  \n",
       "0                                         Description     Visitors  \n",
       "1   Iconic wrought-iron lattice tower, symbol of P...    7 million  \n",
       "2   World’s largest art museum, home to the Mona L...  9.6 million  \n",
       "3   Famous Gothic cathedral known for its stunning...   12 million  \n",
       "4   Basilica located at the highest point in the c...   10 million  \n",
       "5   Famous avenue known for shopping, theaters, an...   14 million  \n",
       "6   Monument honoring those who fought for France,...  1.5 million  \n",
       "7   Historic district known for its bohemian past ...   10 million  \n",
       "8   Former royal residence known for its opulent a...   10 million  \n",
       "9   Museum housed in a Beaux-Arts railway station,...  3.5 million  \n",
       "10  Gothic chapel known for its stunning stained g...    1 million  \n",
       "11  Beautiful gardens with fountains, statues, and...    9 million  \n",
       "12  Scenic boat tours offering views of Paris land...    5 million  \n",
       "13  Famous cemetery where many notable figures are...    3 million  \n",
       "14  Modern art museum known for its radical archit...    3 million  \n",
       "15  Public garden located between the Louvre and P...    8 million  \n",
       "16  Underground ossuary holding the remains of mil...      600,000  \n",
       "17  Opulent opera house known for its grand archit...    1 million  "
      ]
     },
     "metadata": {},
     "output_type": "display_data"
    }
   ],
   "source": [
    "df = pd.DataFrame(filt_dat)\n",
    "df.columns = [\"Name\", \"Location\", \"Description\", \"Visitors\"]\n",
    "print(f\"Number of rows: {df.shape[0]:,}\")\n",
    "display(df)"
   ]
  },
  {
   "cell_type": "markdown",
   "id": "89e87378",
   "metadata": {},
   "source": [
    "## Travel guide function"
   ]
  },
  {
   "cell_type": "code",
   "execution_count": 11,
   "id": "f858de44",
   "metadata": {},
   "outputs": [],
   "source": [
    "def travel_guide(city: str, num_attractions: int = 17) -> pd.DataFrame:\n",
    "    txt = f\"\"\"\n",
    "Make a list of {num_attractions} tourist attractions in {city}, order them by their popularity with the most popular first.\n",
    "For each attaction state the Name, Part of the city, short description, and number of annual visitors.\n",
    "Format the output as PSV with fields \"Name\" | \"Location\" | \"Description\" | \"Visitors\".\n",
    "\"\"\"\n",
    "    data = llm(txt, 10000)\n",
    "    raw_dat = [ list(map(lambda s: str(s).strip(), line.split('|'))) for line in data.split('\\n') ]\n",
    "    filt_dat = list(filter(lambda lst: len(lst)==4, raw_dat))\n",
    "    if filt_dat[0][0].lower() == \"name\":\n",
    "        filt_dat = filt_dat[1:]\n",
    "    df = pd.DataFrame(filt_dat, columns=[\"Name\", \"Location\", \"Description\", \"Visitors\"])\n",
    "    print(f\"Number of rows: {df.shape[0]:,}\")\n",
    "    return df"
   ]
  },
  {
   "cell_type": "code",
   "execution_count": 12,
   "id": "0a9e1b67",
   "metadata": {},
   "outputs": [
    {
     "name": "stdout",
     "output_type": "stream",
     "text": [
      "Number of rows: 5\n"
     ]
    },
    {
     "data": {
      "text/html": [
       "<div>\n",
       "<style scoped>\n",
       "    .dataframe tbody tr th:only-of-type {\n",
       "        vertical-align: middle;\n",
       "    }\n",
       "\n",
       "    .dataframe tbody tr th {\n",
       "        vertical-align: top;\n",
       "    }\n",
       "\n",
       "    .dataframe thead th {\n",
       "        text-align: right;\n",
       "    }\n",
       "</style>\n",
       "<table border=\"1\" class=\"dataframe\">\n",
       "  <thead>\n",
       "    <tr style=\"text-align: right;\">\n",
       "      <th></th>\n",
       "      <th>Name</th>\n",
       "      <th>Location</th>\n",
       "      <th>Description</th>\n",
       "      <th>Visitors</th>\n",
       "    </tr>\n",
       "  </thead>\n",
       "  <tbody>\n",
       "    <tr>\n",
       "      <th>0</th>\n",
       "      <td>Brandenburg Gate</td>\n",
       "      <td>Mitte</td>\n",
       "      <td>An iconic neoclassical monument that symbolize...</td>\n",
       "      <td>14 million</td>\n",
       "    </tr>\n",
       "    <tr>\n",
       "      <th>1</th>\n",
       "      <td>Berlin Wall Memorial</td>\n",
       "      <td>Mitte</td>\n",
       "      <td>A preserved section of the Berlin Wall that in...</td>\n",
       "      <td>1.5 million</td>\n",
       "    </tr>\n",
       "    <tr>\n",
       "      <th>2</th>\n",
       "      <td>Reichstag Building</td>\n",
       "      <td>Mitte</td>\n",
       "      <td>The seat of the German Parliament, known for i...</td>\n",
       "      <td>3 million</td>\n",
       "    </tr>\n",
       "    <tr>\n",
       "      <th>3</th>\n",
       "      <td>Museum Island</td>\n",
       "      <td>Mitte</td>\n",
       "      <td>A UNESCO World Heritage site that houses five ...</td>\n",
       "      <td>3.5 million</td>\n",
       "    </tr>\n",
       "    <tr>\n",
       "      <th>4</th>\n",
       "      <td>Checkpoint Charlie</td>\n",
       "      <td>Kreuzberg</td>\n",
       "      <td>The famous crossing point between East and Wes...</td>\n",
       "      <td>1 million</td>\n",
       "    </tr>\n",
       "  </tbody>\n",
       "</table>\n",
       "</div>"
      ],
      "text/plain": [
       "                   Name   Location  \\\n",
       "0      Brandenburg Gate      Mitte   \n",
       "1  Berlin Wall Memorial      Mitte   \n",
       "2    Reichstag Building      Mitte   \n",
       "3         Museum Island      Mitte   \n",
       "4    Checkpoint Charlie  Kreuzberg   \n",
       "\n",
       "                                         Description     Visitors  \n",
       "0  An iconic neoclassical monument that symbolize...   14 million  \n",
       "1  A preserved section of the Berlin Wall that in...  1.5 million  \n",
       "2  The seat of the German Parliament, known for i...    3 million  \n",
       "3  A UNESCO World Heritage site that houses five ...  3.5 million  \n",
       "4  The famous crossing point between East and Wes...    1 million  "
      ]
     },
     "metadata": {},
     "output_type": "display_data"
    }
   ],
   "source": [
    "berlin_df = travel_guide(\"Berlin\", 5)\n",
    "display(berlin_df)"
   ]
  },
  {
   "cell_type": "code",
   "execution_count": 13,
   "id": "e7192818",
   "metadata": {},
   "outputs": [
    {
     "name": "stdout",
     "output_type": "stream",
     "text": [
      "Number of rows: 5\n"
     ]
    },
    {
     "data": {
      "text/html": [
       "<div>\n",
       "<style scoped>\n",
       "    .dataframe tbody tr th:only-of-type {\n",
       "        vertical-align: middle;\n",
       "    }\n",
       "\n",
       "    .dataframe tbody tr th {\n",
       "        vertical-align: top;\n",
       "    }\n",
       "\n",
       "    .dataframe thead th {\n",
       "        text-align: right;\n",
       "    }\n",
       "</style>\n",
       "<table border=\"1\" class=\"dataframe\">\n",
       "  <thead>\n",
       "    <tr style=\"text-align: right;\">\n",
       "      <th></th>\n",
       "      <th>Name</th>\n",
       "      <th>Location</th>\n",
       "      <th>Description</th>\n",
       "      <th>Visitors</th>\n",
       "    </tr>\n",
       "  </thead>\n",
       "  <tbody>\n",
       "    <tr>\n",
       "      <th>0</th>\n",
       "      <td>Sagrada Família</td>\n",
       "      <td>Eixample</td>\n",
       "      <td>An iconic basilica designed by Antoni Gaudí, k...</td>\n",
       "      <td>4.5 million</td>\n",
       "    </tr>\n",
       "    <tr>\n",
       "      <th>1</th>\n",
       "      <td>Park Güell</td>\n",
       "      <td>Gràcia</td>\n",
       "      <td>A public park also designed by Gaudí, featurin...</td>\n",
       "      <td>3 million</td>\n",
       "    </tr>\n",
       "    <tr>\n",
       "      <th>2</th>\n",
       "      <td>La Rambla</td>\n",
       "      <td>Ciutat Vella</td>\n",
       "      <td>A vibrant street in the heart of the city, fam...</td>\n",
       "      <td>10 million</td>\n",
       "    </tr>\n",
       "    <tr>\n",
       "      <th>3</th>\n",
       "      <td>Casa Batlló</td>\n",
       "      <td>Eixample</td>\n",
       "      <td>A modernist building designed by Gaudí, celebr...</td>\n",
       "      <td>1 million</td>\n",
       "    </tr>\n",
       "    <tr>\n",
       "      <th>4</th>\n",
       "      <td>Gothic Quarter</td>\n",
       "      <td>Ciutat Vella</td>\n",
       "      <td>The historic center of Barcelona, known for it...</td>\n",
       "      <td>7 million</td>\n",
       "    </tr>\n",
       "  </tbody>\n",
       "</table>\n",
       "</div>"
      ],
      "text/plain": [
       "              Name      Location  \\\n",
       "0  Sagrada Família      Eixample   \n",
       "1       Park Güell        Gràcia   \n",
       "2        La Rambla  Ciutat Vella   \n",
       "3      Casa Batlló      Eixample   \n",
       "4   Gothic Quarter  Ciutat Vella   \n",
       "\n",
       "                                         Description     Visitors  \n",
       "0  An iconic basilica designed by Antoni Gaudí, k...  4.5 million  \n",
       "1  A public park also designed by Gaudí, featurin...    3 million  \n",
       "2  A vibrant street in the heart of the city, fam...   10 million  \n",
       "3  A modernist building designed by Gaudí, celebr...    1 million  \n",
       "4  The historic center of Barcelona, known for it...    7 million  "
      ]
     },
     "metadata": {},
     "output_type": "display_data"
    }
   ],
   "source": [
    "barcelona_df = travel_guide(\"Barcelona\", 5)\n",
    "display(barcelona_df)"
   ]
  },
  {
   "cell_type": "code",
   "execution_count": 14,
   "id": "f12fd2ae",
   "metadata": {},
   "outputs": [
    {
     "name": "stdout",
     "output_type": "stream",
     "text": [
      "Number of rows: 5\n"
     ]
    },
    {
     "data": {
      "text/html": [
       "<div>\n",
       "<style scoped>\n",
       "    .dataframe tbody tr th:only-of-type {\n",
       "        vertical-align: middle;\n",
       "    }\n",
       "\n",
       "    .dataframe tbody tr th {\n",
       "        vertical-align: top;\n",
       "    }\n",
       "\n",
       "    .dataframe thead th {\n",
       "        text-align: right;\n",
       "    }\n",
       "</style>\n",
       "<table border=\"1\" class=\"dataframe\">\n",
       "  <thead>\n",
       "    <tr style=\"text-align: right;\">\n",
       "      <th></th>\n",
       "      <th>Name</th>\n",
       "      <th>Location</th>\n",
       "      <th>Description</th>\n",
       "      <th>Visitors</th>\n",
       "    </tr>\n",
       "  </thead>\n",
       "  <tbody>\n",
       "    <tr>\n",
       "      <th>0</th>\n",
       "      <td>Georgia Aquarium</td>\n",
       "      <td>Downtown Atlanta</td>\n",
       "      <td>The Georgia Aquarium is one of the largest aqu...</td>\n",
       "      <td>2 million</td>\n",
       "    </tr>\n",
       "    <tr>\n",
       "      <th>1</th>\n",
       "      <td>World of Coca-Cola</td>\n",
       "      <td>Downtown Atlanta</td>\n",
       "      <td>This museum showcases the history of the Coca-...</td>\n",
       "      <td>1.2 million</td>\n",
       "    </tr>\n",
       "    <tr>\n",
       "      <th>2</th>\n",
       "      <td>Atlanta Botanical Garden</td>\n",
       "      <td>Midtown Atlanta</td>\n",
       "      <td>A beautiful garden featuring a variety of plan...</td>\n",
       "      <td>1 million</td>\n",
       "    </tr>\n",
       "    <tr>\n",
       "      <th>3</th>\n",
       "      <td>Martin Luther King Jr. National Historical Park</td>\n",
       "      <td>Sweet Auburn</td>\n",
       "      <td>This park includes the childhood home of Marti...</td>\n",
       "      <td>800,000</td>\n",
       "    </tr>\n",
       "    <tr>\n",
       "      <th>4</th>\n",
       "      <td>Fox Theatre</td>\n",
       "      <td>Midtown Atlanta</td>\n",
       "      <td>A historic performing arts venue known for its...</td>\n",
       "      <td>600,000</td>\n",
       "    </tr>\n",
       "  </tbody>\n",
       "</table>\n",
       "</div>"
      ],
      "text/plain": [
       "                                              Name          Location  \\\n",
       "0                                 Georgia Aquarium  Downtown Atlanta   \n",
       "1                               World of Coca-Cola  Downtown Atlanta   \n",
       "2                         Atlanta Botanical Garden   Midtown Atlanta   \n",
       "3  Martin Luther King Jr. National Historical Park      Sweet Auburn   \n",
       "4                                      Fox Theatre   Midtown Atlanta   \n",
       "\n",
       "                                         Description     Visitors  \n",
       "0  The Georgia Aquarium is one of the largest aqu...    2 million  \n",
       "1  This museum showcases the history of the Coca-...  1.2 million  \n",
       "2  A beautiful garden featuring a variety of plan...    1 million  \n",
       "3  This park includes the childhood home of Marti...      800,000  \n",
       "4  A historic performing arts venue known for its...      600,000  "
      ]
     },
     "metadata": {},
     "output_type": "display_data"
    }
   ],
   "source": [
    "atlanta_df = travel_guide(\"Atlanta\", 5)\n",
    "display(atlanta_df)"
   ]
  }
 ],
 "metadata": {
  "kernelspec": {
   "display_name": "Python 3 (ipykernel)",
   "language": "python",
   "name": "python3"
  },
  "language_info": {
   "codemirror_mode": {
    "name": "ipython",
    "version": 3
   },
   "file_extension": ".py",
   "mimetype": "text/x-python",
   "name": "python",
   "nbconvert_exporter": "python",
   "pygments_lexer": "ipython3",
   "version": "3.8.6"
  }
 },
 "nbformat": 4,
 "nbformat_minor": 5
}
