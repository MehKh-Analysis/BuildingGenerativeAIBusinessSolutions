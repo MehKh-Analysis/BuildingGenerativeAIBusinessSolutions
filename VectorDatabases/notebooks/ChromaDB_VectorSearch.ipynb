{
 "cells": [
  {
   "cell_type": "code",
   "execution_count": null,
   "metadata": {},
   "outputs": [],
   "source": []
  },
  {
   "cell_type": "markdown",
   "metadata": {},
   "source": [
    "# VectorSearch with ChromaDB\n",
    "\n",
    "ChromaDB - Langchain - Shakespeare Hamlet Example\n",
    "\n",
    "VectorSearch-ChromaDB\n",
    "https://www.kaggle.com/code/toddgardiner/vectorsearch-chromadb/notebook"
   ]
  },
  {
   "cell_type": "code",
   "execution_count": 1,
   "metadata": {},
   "outputs": [],
   "source": [
    "# #use this version of chromadb\n",
    "# !pip install chromadb==0.5.3 \n",
    "\n",
    "# #get langchain stuff\n",
    "# !pip install langchain langchain-community langchain_huggingface"
   ]
  },
  {
   "cell_type": "code",
   "execution_count": 2,
   "metadata": {},
   "outputs": [
    {
     "name": "stderr",
     "output_type": "stream",
     "text": [
      "/Users/mjack6/GSU_Spring2025/MSA8700/venv_rag/lib/python3.9/site-packages/urllib3/__init__.py:35: NotOpenSSLWarning: urllib3 v2 only supports OpenSSL 1.1.1+, currently the 'ssl' module is compiled with 'LibreSSL 2.8.3'. See: https://github.com/urllib3/urllib3/issues/3020\n",
      "  warnings.warn(\n"
     ]
    }
   ],
   "source": [
    "import os\n",
    "import sys\n",
    "import pandas as pd\n",
    "\n",
    "from langchain.vectorstores import Chroma\n",
    "from langchain_huggingface import HuggingFaceEmbeddings  \n",
    "from langchain_core.documents import  Document\n",
    "\n",
    "hf_key = open(\"/Users/mjack6/.secrets/hugginface_mjack.apikey\", \"r\").read().strip()\n",
    "\n",
    "os.environ['HF_TOKEN'] = hf_key "
   ]
  },
  {
   "cell_type": "code",
   "execution_count": 3,
   "metadata": {},
   "outputs": [],
   "source": [
    "#define some arguments for the embeddings models\n",
    "model_kwargs = {'device': 'cpu'}\n",
    "encode_kwargs = {'normalize_embeddings': True}\n",
    "modelsetter = \"sentence-transformers/all-mpnet-base-v2\"\n",
    "\n",
    "#function to build the chromadb, default model is overwritten when we call this function below (w modelsetter var)\n",
    "def create_vector_db(chunks, model_path=\"intfloat/multilingual-e5-base\"):\n",
    "    # define embeddings model call\n",
    "    embeddings = HuggingFaceEmbeddings(\n",
    "        model_name=model_path,\n",
    "        model_kwargs=model_kwargs,\n",
    "        encode_kwargs=encode_kwargs\n",
    "    )\n",
    "    \n",
    "    # turn string chunks into docs\n",
    "    docs = []\n",
    "    for i in range(len(chunks)):\n",
    "        docs.append(Document(page_content=chunks[i],metadata={'source':f'hamlet chunk {i}'}))\n",
    "    \n",
    "    # build the chromadb\n",
    "    db = Chroma.from_documents(docs, embedding=embeddings, collection_name = 'hamlet' , persist_directory = '/Users/mjack6/chromadb/working',)\n",
    "    return db"
   ]
  },
  {
   "cell_type": "code",
   "execution_count": 4,
   "metadata": {},
   "outputs": [
    {
     "data": {
      "application/vnd.microsoft.datawrangler.viewer.v0+json": {
       "columns": [
        {
         "name": "index",
         "rawType": "int64",
         "type": "integer"
        },
        {
         "name": "Dataline",
         "rawType": "int64",
         "type": "integer"
        },
        {
         "name": "Play",
         "rawType": "object",
         "type": "string"
        },
        {
         "name": "PlayerLinenumber",
         "rawType": "float64",
         "type": "float"
        },
        {
         "name": "ActSceneLine",
         "rawType": "object",
         "type": "unknown"
        },
        {
         "name": "Player",
         "rawType": "object",
         "type": "string"
        },
        {
         "name": "PlayerLine",
         "rawType": "object",
         "type": "string"
        }
       ],
       "conversionMethod": "pd.DataFrame",
       "ref": "6cc1d50f-d08a-49bc-a076-4abe77dec356",
       "rows": [
        [
         "32432",
         "32433",
         "Hamlet",
         "138.0",
         null,
         "CYMBELINE",
         "ACT I"
        ],
        [
         "32433",
         "32434",
         "Hamlet",
         "138.0",
         null,
         "CYMBELINE",
         "SCENE I. Elsinore. A platform before the castle."
        ],
        [
         "32434",
         "32435",
         "Hamlet",
         "138.0",
         null,
         "CYMBELINE",
         "FRANCISCO at his post. Enter to him BERNARDO"
        ],
        [
         "32435",
         "32436",
         "Hamlet",
         "1.0",
         "1.1.1",
         "BERNARDO",
         "Who's there?"
        ],
        [
         "32436",
         "32437",
         "Hamlet",
         "2.0",
         "1.1.2",
         "FRANCISCO",
         "Nay, answer me: stand, and unfold yourself."
        ]
       ],
       "shape": {
        "columns": 6,
        "rows": 5
       }
      },
      "text/html": [
       "<div>\n",
       "<style scoped>\n",
       "    .dataframe tbody tr th:only-of-type {\n",
       "        vertical-align: middle;\n",
       "    }\n",
       "\n",
       "    .dataframe tbody tr th {\n",
       "        vertical-align: top;\n",
       "    }\n",
       "\n",
       "    .dataframe thead th {\n",
       "        text-align: right;\n",
       "    }\n",
       "</style>\n",
       "<table border=\"1\" class=\"dataframe\">\n",
       "  <thead>\n",
       "    <tr style=\"text-align: right;\">\n",
       "      <th></th>\n",
       "      <th>Dataline</th>\n",
       "      <th>Play</th>\n",
       "      <th>PlayerLinenumber</th>\n",
       "      <th>ActSceneLine</th>\n",
       "      <th>Player</th>\n",
       "      <th>PlayerLine</th>\n",
       "    </tr>\n",
       "  </thead>\n",
       "  <tbody>\n",
       "    <tr>\n",
       "      <th>32432</th>\n",
       "      <td>32433</td>\n",
       "      <td>Hamlet</td>\n",
       "      <td>138.0</td>\n",
       "      <td>NaN</td>\n",
       "      <td>CYMBELINE</td>\n",
       "      <td>ACT I</td>\n",
       "    </tr>\n",
       "    <tr>\n",
       "      <th>32433</th>\n",
       "      <td>32434</td>\n",
       "      <td>Hamlet</td>\n",
       "      <td>138.0</td>\n",
       "      <td>NaN</td>\n",
       "      <td>CYMBELINE</td>\n",
       "      <td>SCENE I. Elsinore. A platform before the castle.</td>\n",
       "    </tr>\n",
       "    <tr>\n",
       "      <th>32434</th>\n",
       "      <td>32435</td>\n",
       "      <td>Hamlet</td>\n",
       "      <td>138.0</td>\n",
       "      <td>NaN</td>\n",
       "      <td>CYMBELINE</td>\n",
       "      <td>FRANCISCO at his post. Enter to him BERNARDO</td>\n",
       "    </tr>\n",
       "    <tr>\n",
       "      <th>32435</th>\n",
       "      <td>32436</td>\n",
       "      <td>Hamlet</td>\n",
       "      <td>1.0</td>\n",
       "      <td>1.1.1</td>\n",
       "      <td>BERNARDO</td>\n",
       "      <td>Who's there?</td>\n",
       "    </tr>\n",
       "    <tr>\n",
       "      <th>32436</th>\n",
       "      <td>32437</td>\n",
       "      <td>Hamlet</td>\n",
       "      <td>2.0</td>\n",
       "      <td>1.1.2</td>\n",
       "      <td>FRANCISCO</td>\n",
       "      <td>Nay, answer me: stand, and unfold yourself.</td>\n",
       "    </tr>\n",
       "  </tbody>\n",
       "</table>\n",
       "</div>"
      ],
      "text/plain": [
       "       Dataline    Play  PlayerLinenumber ActSceneLine     Player  \\\n",
       "32432     32433  Hamlet             138.0          NaN  CYMBELINE   \n",
       "32433     32434  Hamlet             138.0          NaN  CYMBELINE   \n",
       "32434     32435  Hamlet             138.0          NaN  CYMBELINE   \n",
       "32435     32436  Hamlet               1.0        1.1.1   BERNARDO   \n",
       "32436     32437  Hamlet               2.0        1.1.2  FRANCISCO   \n",
       "\n",
       "                                             PlayerLine  \n",
       "32432                                             ACT I  \n",
       "32433  SCENE I. Elsinore. A platform before the castle.  \n",
       "32434      FRANCISCO at his post. Enter to him BERNARDO  \n",
       "32435                                      Who's there?  \n",
       "32436       Nay, answer me: stand, and unfold yourself.  "
      ]
     },
     "execution_count": 4,
     "metadata": {},
     "output_type": "execute_result"
    }
   ],
   "source": [
    "#read in the dataset\n",
    "plays = pd.read_csv('data/Shakespeare_data.csv')\n",
    "\n",
    "#get hamlet from the larger plays corpus\n",
    "hamlet = plays.loc[plays['Play']=='Hamlet'].sort_values(by=['Dataline'], axis=0)\n",
    "hamlet.head()"
   ]
  },
  {
   "cell_type": "code",
   "execution_count": 5,
   "metadata": {},
   "outputs": [
    {
     "data": {
      "application/vnd.microsoft.datawrangler.viewer.v0+json": {
       "columns": [
        {
         "name": "index",
         "rawType": "int64",
         "type": "integer"
        },
        {
         "name": "Dataline",
         "rawType": "int64",
         "type": "integer"
        },
        {
         "name": "Play",
         "rawType": "object",
         "type": "string"
        },
        {
         "name": "PlayerLinenumber",
         "rawType": "float64",
         "type": "float"
        },
        {
         "name": "ActSceneLine",
         "rawType": "object",
         "type": "unknown"
        },
        {
         "name": "Player",
         "rawType": "object",
         "type": "string"
        },
        {
         "name": "PlayerLine",
         "rawType": "object",
         "type": "string"
        }
       ],
       "conversionMethod": "pd.DataFrame",
       "ref": "2f96dcec-90ae-4c37-901d-3e5c8748e1ca",
       "rows": [
        [
         "0",
         "32433",
         "Hamlet",
         "138.0",
         null,
         "CYMBELINE",
         "ACT I"
        ],
        [
         "1",
         "32434",
         "Hamlet",
         "138.0",
         null,
         "CYMBELINE",
         "SCENE I. Elsinore. A platform before the castle."
        ],
        [
         "2",
         "32435",
         "Hamlet",
         "138.0",
         null,
         "CYMBELINE",
         "FRANCISCO at his post. Enter to him BERNARDO"
        ],
        [
         "3",
         "32436",
         "Hamlet",
         "1.0",
         "1.1.1",
         "BERNARDO",
         "Who's there?"
        ],
        [
         "4",
         "32437",
         "Hamlet",
         "2.0",
         "1.1.2",
         "FRANCISCO",
         "Nay, answer me: stand, and unfold yourself."
        ]
       ],
       "shape": {
        "columns": 6,
        "rows": 5
       }
      },
      "text/html": [
       "<div>\n",
       "<style scoped>\n",
       "    .dataframe tbody tr th:only-of-type {\n",
       "        vertical-align: middle;\n",
       "    }\n",
       "\n",
       "    .dataframe tbody tr th {\n",
       "        vertical-align: top;\n",
       "    }\n",
       "\n",
       "    .dataframe thead th {\n",
       "        text-align: right;\n",
       "    }\n",
       "</style>\n",
       "<table border=\"1\" class=\"dataframe\">\n",
       "  <thead>\n",
       "    <tr style=\"text-align: right;\">\n",
       "      <th></th>\n",
       "      <th>Dataline</th>\n",
       "      <th>Play</th>\n",
       "      <th>PlayerLinenumber</th>\n",
       "      <th>ActSceneLine</th>\n",
       "      <th>Player</th>\n",
       "      <th>PlayerLine</th>\n",
       "    </tr>\n",
       "  </thead>\n",
       "  <tbody>\n",
       "    <tr>\n",
       "      <th>0</th>\n",
       "      <td>32433</td>\n",
       "      <td>Hamlet</td>\n",
       "      <td>138.0</td>\n",
       "      <td>NaN</td>\n",
       "      <td>CYMBELINE</td>\n",
       "      <td>ACT I</td>\n",
       "    </tr>\n",
       "    <tr>\n",
       "      <th>1</th>\n",
       "      <td>32434</td>\n",
       "      <td>Hamlet</td>\n",
       "      <td>138.0</td>\n",
       "      <td>NaN</td>\n",
       "      <td>CYMBELINE</td>\n",
       "      <td>SCENE I. Elsinore. A platform before the castle.</td>\n",
       "    </tr>\n",
       "    <tr>\n",
       "      <th>2</th>\n",
       "      <td>32435</td>\n",
       "      <td>Hamlet</td>\n",
       "      <td>138.0</td>\n",
       "      <td>NaN</td>\n",
       "      <td>CYMBELINE</td>\n",
       "      <td>FRANCISCO at his post. Enter to him BERNARDO</td>\n",
       "    </tr>\n",
       "    <tr>\n",
       "      <th>3</th>\n",
       "      <td>32436</td>\n",
       "      <td>Hamlet</td>\n",
       "      <td>1.0</td>\n",
       "      <td>1.1.1</td>\n",
       "      <td>BERNARDO</td>\n",
       "      <td>Who's there?</td>\n",
       "    </tr>\n",
       "    <tr>\n",
       "      <th>4</th>\n",
       "      <td>32437</td>\n",
       "      <td>Hamlet</td>\n",
       "      <td>2.0</td>\n",
       "      <td>1.1.2</td>\n",
       "      <td>FRANCISCO</td>\n",
       "      <td>Nay, answer me: stand, and unfold yourself.</td>\n",
       "    </tr>\n",
       "  </tbody>\n",
       "</table>\n",
       "</div>"
      ],
      "text/plain": [
       "   Dataline    Play  PlayerLinenumber ActSceneLine     Player  \\\n",
       "0     32433  Hamlet             138.0          NaN  CYMBELINE   \n",
       "1     32434  Hamlet             138.0          NaN  CYMBELINE   \n",
       "2     32435  Hamlet             138.0          NaN  CYMBELINE   \n",
       "3     32436  Hamlet               1.0        1.1.1   BERNARDO   \n",
       "4     32437  Hamlet               2.0        1.1.2  FRANCISCO   \n",
       "\n",
       "                                         PlayerLine  \n",
       "0                                             ACT I  \n",
       "1  SCENE I. Elsinore. A platform before the castle.  \n",
       "2      FRANCISCO at his post. Enter to him BERNARDO  \n",
       "3                                      Who's there?  \n",
       "4       Nay, answer me: stand, and unfold yourself.  "
      ]
     },
     "execution_count": 5,
     "metadata": {},
     "output_type": "execute_result"
    }
   ],
   "source": [
    "#reset the index to 0->\n",
    "hamlet.reset_index(inplace=True,drop=True)\n",
    "hamlet.head()"
   ]
  },
  {
   "cell_type": "code",
   "execution_count": 6,
   "metadata": {},
   "outputs": [
    {
     "data": {
      "application/vnd.microsoft.datawrangler.viewer.v0+json": {
       "columns": [
        {
         "name": "index",
         "rawType": "int64",
         "type": "integer"
        },
        {
         "name": "Player",
         "rawType": "object",
         "type": "string"
        },
        {
         "name": "PlayerLine",
         "rawType": "object",
         "type": "string"
        }
       ],
       "conversionMethod": "pd.DataFrame",
       "ref": "4355fb38-db8c-42bb-b88c-cf3e5a028f96",
       "rows": [
        [
         "100",
         "HORATIO",
         "Whose image even but now appear'd to us,"
        ],
        [
         "101",
         "HORATIO",
         "Was, as you know, by Fortinbras of Norway,"
        ],
        [
         "102",
         "HORATIO",
         "Thereto prick'd on by a most emulate pride,"
        ],
        [
         "103",
         "HORATIO",
         "Dared to the combat, in which our valiant Hamlet--"
        ],
        [
         "104",
         "HORATIO",
         "For so this side of our known world esteem'd him--"
        ],
        [
         "105",
         "HORATIO",
         "Did slay this Fortinbras, who by a seal'd compact,"
        ],
        [
         "106",
         "HORATIO",
         "Well ratified by law and heraldry,"
        ],
        [
         "107",
         "HORATIO",
         "Did forfeit, with his life, all those his lands"
        ],
        [
         "108",
         "HORATIO",
         "Which he stood seized of, to the conqueror:"
        ],
        [
         "109",
         "HORATIO",
         "Against the which, a moiety competent"
        ],
        [
         "110",
         "HORATIO",
         "Was gaged by our king, which had return'd"
        ],
        [
         "111",
         "HORATIO",
         "To the inheritance of Fortinbras,"
        ],
        [
         "112",
         "HORATIO",
         "Had he been vanquisher, as, by the same covenant,"
        ],
        [
         "113",
         "HORATIO",
         "And carriage of the article design'd,"
        ],
        [
         "114",
         "HORATIO",
         "His fell to Hamlet. Now, sir, young Fortinbras,"
        ],
        [
         "115",
         "HORATIO",
         "Of unimproved mettle hot and full,"
        ],
        [
         "116",
         "HORATIO",
         "Hath in the skirts of Norway here and there"
        ],
        [
         "117",
         "HORATIO",
         "Shark'd up a list of lawless resolutes,"
        ],
        [
         "118",
         "HORATIO",
         "For food and diet, to some enterprise"
        ],
        [
         "119",
         "HORATIO",
         "That hath a stomach in't, which is no other--"
        ]
       ],
       "shape": {
        "columns": 2,
        "rows": 20
       }
      },
      "text/html": [
       "<div>\n",
       "<style scoped>\n",
       "    .dataframe tbody tr th:only-of-type {\n",
       "        vertical-align: middle;\n",
       "    }\n",
       "\n",
       "    .dataframe tbody tr th {\n",
       "        vertical-align: top;\n",
       "    }\n",
       "\n",
       "    .dataframe thead th {\n",
       "        text-align: right;\n",
       "    }\n",
       "</style>\n",
       "<table border=\"1\" class=\"dataframe\">\n",
       "  <thead>\n",
       "    <tr style=\"text-align: right;\">\n",
       "      <th></th>\n",
       "      <th>Player</th>\n",
       "      <th>PlayerLine</th>\n",
       "    </tr>\n",
       "  </thead>\n",
       "  <tbody>\n",
       "    <tr>\n",
       "      <th>100</th>\n",
       "      <td>HORATIO</td>\n",
       "      <td>Whose image even but now appear'd to us,</td>\n",
       "    </tr>\n",
       "    <tr>\n",
       "      <th>101</th>\n",
       "      <td>HORATIO</td>\n",
       "      <td>Was, as you know, by Fortinbras of Norway,</td>\n",
       "    </tr>\n",
       "    <tr>\n",
       "      <th>102</th>\n",
       "      <td>HORATIO</td>\n",
       "      <td>Thereto prick'd on by a most emulate pride,</td>\n",
       "    </tr>\n",
       "    <tr>\n",
       "      <th>103</th>\n",
       "      <td>HORATIO</td>\n",
       "      <td>Dared to the combat, in which our valiant Haml...</td>\n",
       "    </tr>\n",
       "    <tr>\n",
       "      <th>104</th>\n",
       "      <td>HORATIO</td>\n",
       "      <td>For so this side of our known world esteem'd h...</td>\n",
       "    </tr>\n",
       "    <tr>\n",
       "      <th>105</th>\n",
       "      <td>HORATIO</td>\n",
       "      <td>Did slay this Fortinbras, who by a seal'd comp...</td>\n",
       "    </tr>\n",
       "    <tr>\n",
       "      <th>106</th>\n",
       "      <td>HORATIO</td>\n",
       "      <td>Well ratified by law and heraldry,</td>\n",
       "    </tr>\n",
       "    <tr>\n",
       "      <th>107</th>\n",
       "      <td>HORATIO</td>\n",
       "      <td>Did forfeit, with his life, all those his lands</td>\n",
       "    </tr>\n",
       "    <tr>\n",
       "      <th>108</th>\n",
       "      <td>HORATIO</td>\n",
       "      <td>Which he stood seized of, to the conqueror:</td>\n",
       "    </tr>\n",
       "    <tr>\n",
       "      <th>109</th>\n",
       "      <td>HORATIO</td>\n",
       "      <td>Against the which, a moiety competent</td>\n",
       "    </tr>\n",
       "    <tr>\n",
       "      <th>110</th>\n",
       "      <td>HORATIO</td>\n",
       "      <td>Was gaged by our king, which had return'd</td>\n",
       "    </tr>\n",
       "    <tr>\n",
       "      <th>111</th>\n",
       "      <td>HORATIO</td>\n",
       "      <td>To the inheritance of Fortinbras,</td>\n",
       "    </tr>\n",
       "    <tr>\n",
       "      <th>112</th>\n",
       "      <td>HORATIO</td>\n",
       "      <td>Had he been vanquisher, as, by the same covenant,</td>\n",
       "    </tr>\n",
       "    <tr>\n",
       "      <th>113</th>\n",
       "      <td>HORATIO</td>\n",
       "      <td>And carriage of the article design'd,</td>\n",
       "    </tr>\n",
       "    <tr>\n",
       "      <th>114</th>\n",
       "      <td>HORATIO</td>\n",
       "      <td>His fell to Hamlet. Now, sir, young Fortinbras,</td>\n",
       "    </tr>\n",
       "    <tr>\n",
       "      <th>115</th>\n",
       "      <td>HORATIO</td>\n",
       "      <td>Of unimproved mettle hot and full,</td>\n",
       "    </tr>\n",
       "    <tr>\n",
       "      <th>116</th>\n",
       "      <td>HORATIO</td>\n",
       "      <td>Hath in the skirts of Norway here and there</td>\n",
       "    </tr>\n",
       "    <tr>\n",
       "      <th>117</th>\n",
       "      <td>HORATIO</td>\n",
       "      <td>Shark'd up a list of lawless resolutes,</td>\n",
       "    </tr>\n",
       "    <tr>\n",
       "      <th>118</th>\n",
       "      <td>HORATIO</td>\n",
       "      <td>For food and diet, to some enterprise</td>\n",
       "    </tr>\n",
       "    <tr>\n",
       "      <th>119</th>\n",
       "      <td>HORATIO</td>\n",
       "      <td>That hath a stomach in't, which is no other--</td>\n",
       "    </tr>\n",
       "  </tbody>\n",
       "</table>\n",
       "</div>"
      ],
      "text/plain": [
       "      Player                                         PlayerLine\n",
       "100  HORATIO           Whose image even but now appear'd to us,\n",
       "101  HORATIO         Was, as you know, by Fortinbras of Norway,\n",
       "102  HORATIO        Thereto prick'd on by a most emulate pride,\n",
       "103  HORATIO  Dared to the combat, in which our valiant Haml...\n",
       "104  HORATIO  For so this side of our known world esteem'd h...\n",
       "105  HORATIO  Did slay this Fortinbras, who by a seal'd comp...\n",
       "106  HORATIO                 Well ratified by law and heraldry,\n",
       "107  HORATIO    Did forfeit, with his life, all those his lands\n",
       "108  HORATIO        Which he stood seized of, to the conqueror:\n",
       "109  HORATIO              Against the which, a moiety competent\n",
       "110  HORATIO          Was gaged by our king, which had return'd\n",
       "111  HORATIO                  To the inheritance of Fortinbras,\n",
       "112  HORATIO  Had he been vanquisher, as, by the same covenant,\n",
       "113  HORATIO              And carriage of the article design'd,\n",
       "114  HORATIO    His fell to Hamlet. Now, sir, young Fortinbras,\n",
       "115  HORATIO                 Of unimproved mettle hot and full,\n",
       "116  HORATIO        Hath in the skirts of Norway here and there\n",
       "117  HORATIO            Shark'd up a list of lawless resolutes,\n",
       "118  HORATIO              For food and diet, to some enterprise\n",
       "119  HORATIO      That hath a stomach in't, which is no other--"
      ]
     },
     "execution_count": 6,
     "metadata": {},
     "output_type": "execute_result"
    }
   ],
   "source": [
    "#see inside the play. do characters speak multiple lines at once?\n",
    "hamlet[['Player','PlayerLine']][100:120]"
   ]
  },
  {
   "cell_type": "code",
   "execution_count": 7,
   "metadata": {},
   "outputs": [],
   "source": [
    "# yes, they do. So we need to add character only once per oration...\n",
    "\n",
    "#list for corpus\n",
    "corpus = []\n",
    "\n",
    "# dummy variable for character/player\n",
    "lastplayer = ''\n",
    "\n",
    "# loop the dataset into the list\n",
    "for i in range(len(hamlet)):\n",
    "    \n",
    "    #don't repeat the player for every line\n",
    "    if lastplayer == hamlet['Player'][i]:\n",
    "        corpus.append(hamlet['PlayerLine'][i])\n",
    "    \n",
    "    #but do put the player in if there is a change\n",
    "    else: \n",
    "        corpus.append(hamlet['Player'][i])\n",
    "        corpus.append(hamlet['PlayerLine'][i])\n",
    "    \n",
    "    #set player for loop\n",
    "    lastplayer = hamlet['Player'][i]\n",
    "\n",
    "# join all the list and add spaces...\n",
    "corp = \" \".join(corpus)"
   ]
  },
  {
   "cell_type": "code",
   "execution_count": 8,
   "metadata": {},
   "outputs": [
    {
     "data": {
      "text/plain": [
       "\"CYMBELINE ACT I SCENE I. Elsinore. A platform before the castle. FRANCISCO at his post. Enter to him BERNARDO BERNARDO Who's there? FRANCISCO Nay, answer me: stand, and unfold yourself. BERNARDO Long live the king! FRANCISCO Bernardo? BERNARDO He. FRANCISCO You come most carefully upon your hour. BERNARDO 'Tis now struck twelve, get thee to bed, Francisco. FRANCISCO For this relief much thanks: 'tis bitter cold, And I am sick at heart. BERNARDO Have you had quiet guard? FRANCISCO Not a mouse sti\""
      ]
     },
     "execution_count": 8,
     "metadata": {},
     "output_type": "execute_result"
    }
   ],
   "source": [
    "#check the output\n",
    "corp[0:500]"
   ]
  },
  {
   "cell_type": "code",
   "execution_count": 9,
   "metadata": {},
   "outputs": [
    {
     "data": {
      "text/plain": [
       "174880"
      ]
     },
     "execution_count": 9,
     "metadata": {},
     "output_type": "execute_result"
    }
   ],
   "source": [
    "# how long is the corp\n",
    "len(corp)"
   ]
  },
  {
   "cell_type": "code",
   "execution_count": 10,
   "metadata": {},
   "outputs": [
    {
     "name": "stdout",
     "output_type": "stream",
     "text": [
      "Length of Question:  87\n"
     ]
    }
   ],
   "source": [
    "question = \"I've to be mean to be nice, so bad starts and worse stays. And another thing good girl.\" #looking for \"Thus bad begins, and worse remains behind\"\n",
    "print('Length of Question: ',len(question))"
   ]
  },
  {
   "cell_type": "code",
   "execution_count": 11,
   "metadata": {},
   "outputs": [
    {
     "name": "stdout",
     "output_type": "stream",
     "text": [
      "Computed Chunks = 1367\n"
     ]
    }
   ],
   "source": [
    "#chunk the corpus into ~2x question size +/- 50% = ~4x sized chunks\n",
    "setsize= 128 # size of chunks\n",
    "setoffset = 56 #offset size ~50%\n",
    "\n",
    "#even math or no?\n",
    "if len(corp)%setsize == 0:\n",
    "    chunks = len(corp)/setsize\n",
    "else:\n",
    "    chunks = len(corp)//setsize\n",
    "    chunks += 1\n",
    "\n",
    "print(f\"Computed Chunks = {chunks}\")\n",
    "\n",
    "# chunk it out into the chus list\n",
    "chus = []\n",
    "for i in range(chunks):\n",
    "    #set start position\n",
    "    if i > 0:\n",
    "        startpos = i * setsize - setoffset\n",
    "    else:\n",
    "        startpos = i * setsize\n",
    "    #set endposition\n",
    "    if i < chunks - 1:\n",
    "        endpos = i * setsize + setsize + setoffset\n",
    "    else: \n",
    "        endpos = i * setsize + setsize\n",
    "        \n",
    "    # catch errors that extend past corpus with offset\n",
    "    if endpos > len(corp):\n",
    "        endpos = len(corp)-1\n",
    "    \n",
    "    #add chunks to the chus list\n",
    "    chus.append(corp[startpos:endpos])"
   ]
  },
  {
   "cell_type": "code",
   "execution_count": 12,
   "metadata": {},
   "outputs": [
    {
     "data": {
      "text/plain": [
       "1367"
      ]
     },
     "execution_count": 12,
     "metadata": {},
     "output_type": "execute_result"
    }
   ],
   "source": [
    "#check our chunks --> how many? do they match?\n",
    "len(chus)"
   ]
  },
  {
   "cell_type": "code",
   "execution_count": 13,
   "metadata": {},
   "outputs": [],
   "source": [
    "#lets embed them and stuff them in a chroma db (note the defined model override)\n",
    "chrdb = ''\n",
    "chrdb = create_vector_db(chus, model_path=modelsetter)"
   ]
  },
  {
   "cell_type": "code",
   "execution_count": 14,
   "metadata": {},
   "outputs": [
    {
     "data": {
      "text/plain": [
       "[0.05348237231373787,\n",
       " 0.008560621179640293,\n",
       " -0.0029518732335418463,\n",
       " -0.0014147310284897685]"
      ]
     },
     "execution_count": 14,
     "metadata": {},
     "output_type": "execute_result"
    }
   ],
   "source": [
    "#make an embedding for the question \n",
    "\n",
    "qembeddings = HuggingFaceEmbeddings(\n",
    "        \n",
    "        model_name= modelsetter,\n",
    "        model_kwargs=model_kwargs,\n",
    "        encode_kwargs=encode_kwargs\n",
    "    )\n",
    "qembed = qembeddings.embed_query(question)\n",
    "qembed[0:4]"
   ]
  },
  {
   "cell_type": "code",
   "execution_count": 15,
   "metadata": {},
   "outputs": [
    {
     "name": "stdout",
     "output_type": "stream",
     "text": [
      "------------------------------ page_content=' be cruel, only to be kind: Thus bad begins and worse remains behind. One word more, good lady. QUEEN GERTRUDE What shall I do? HAMLET Not this, by no means, that I bid you do: Let the bloat king tempt you again to bed, Pinch wanton on your' metadata={'source': 'hamlet chunk 868'}\n",
      "------------------------------ page_content=' be cruel, only to be kind: Thus bad begins and worse remains behind. One word more, good lady. QUEEN GERTRUDE What shall I do? HAMLET Not this, by no means, that I bid you do: Let the bloat king tempt you again to bed, Pinch wanton on your' metadata={'source': 'hamlet chunk 868'}\n",
      "------------------------------ page_content=' must be their scourge and minister. I will bestow him, and will answer well The death I gave him. So, again, good night. I must be cruel, only to be kind: Thus bad begins and worse remains behind. One word more, good lady. QUEEN GERTRUDE W' metadata={'source': 'hamlet chunk 867'}\n"
     ]
    }
   ],
   "source": [
    "# query the db and find the top k results\n",
    "results = chrdb.similarity_search_by_vector(    \n",
    "    embedding = qembed,\n",
    "    k = 3\n",
    ")\n",
    "for i in results:\n",
    "    print(\"------------------------------\",i)"
   ]
  },
  {
   "cell_type": "code",
   "execution_count": 16,
   "metadata": {},
   "outputs": [
    {
     "name": "stdout",
     "output_type": "stream",
     "text": [
      "Chunk Number 868\n",
      " be cruel, only to be kind: Thus bad begins and worse remains behind. One word more, good lady. QUEEN GERTRUDE What shall I do? HAMLET Not this, by no means, that I bid you do: Let the bloat king tempt you again to bed, Pinch wanton on your\n",
      "\n",
      "\n",
      "\n",
      "Chunk Number 868\n",
      " be cruel, only to be kind: Thus bad begins and worse remains behind. One word more, good lady. QUEEN GERTRUDE What shall I do? HAMLET Not this, by no means, that I bid you do: Let the bloat king tempt you again to bed, Pinch wanton on your\n",
      "\n",
      "\n",
      "\n",
      "Chunk Number 867\n",
      " must be their scourge and minister. I will bestow him, and will answer well The death I gave him. So, again, good night. I must be cruel, only to be kind: Thus bad begins and worse remains behind. One word more, good lady. QUEEN GERTRUDE W\n",
      "\n",
      "\n",
      "\n"
     ]
    }
   ],
   "source": [
    "# the chunk numbers are in the results[i].metadata['source'] so let's get those out\n",
    "# and then print the outputs neatly\n",
    "\n",
    "for j in range(len(results)):\n",
    "    #get the chunk number\n",
    "    cn = \"\".join([x for x in results[j].metadata['source'] if x.isnumeric()])\n",
    "    print(f\"Chunk Number {cn}\")\n",
    "    print(chus[int(cn)])\n",
    "    print('\\n\\n')"
   ]
  },
  {
   "cell_type": "code",
   "execution_count": null,
   "metadata": {},
   "outputs": [],
   "source": []
  }
 ],
 "metadata": {
  "kernelspec": {
   "display_name": "venv_rag",
   "language": "python",
   "name": "python3"
  },
  "language_info": {
   "codemirror_mode": {
    "name": "ipython",
    "version": 3
   },
   "file_extension": ".py",
   "mimetype": "text/x-python",
   "name": "python",
   "nbconvert_exporter": "python",
   "pygments_lexer": "ipython3",
   "version": "3.9.6"
  }
 },
 "nbformat": 4,
 "nbformat_minor": 2
}
